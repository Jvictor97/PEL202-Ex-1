{
 "cells": [
  {
   "cell_type": "markdown",
   "metadata": {},
   "source": [
    "# Exercício 1 - Busca em Largura (BFS) e Busca em Profundidade (DFS)"
   ]
  },
  {
   "cell_type": "markdown",
   "metadata": {},
   "source": [
    "## Classes com as estruturas de dados para os algoritmos"
   ]
  },
  {
   "cell_type": "markdown",
   "metadata": {},
   "source": [
    "#### Classe State (ou Nó)\n",
    "Guarda referências para o nó pai e os nós filhos"
   ]
  },
  {
   "cell_type": "code",
   "execution_count": 2,
   "metadata": {},
   "outputs": [],
   "source": [
    "class State:\n",
    "    def __init__(self, water_on_3 = 0, water_on_4 = 0):\n",
    "        self.water_on_3 = water_on_3  # inicializa o atributo water_on_3 (quantidade de água no jarro de 3L)\n",
    "        self.water_on_4 = water_on_4 # inicializa o atributo water_on_4 (quantidade de água no jarro de 4L)\n",
    "        self.parent = None # inicializa a referência para o nó pai como None\n",
    "        self.children = [] # inicializa as referências para os nós filhos como um array vazio\n",
    "    \n",
    "    def update(self, water_on_3, water_on_4): # atualiza a quantidade de água nos jarros\n",
    "        self.water_on_3 = water_on_3\n",
    "        self.water_on_4 = water_on_4\n",
    "        \n",
    "    def is_final_state(self): # verifica se o estado do nó atual é o estado final (2, 0)\n",
    "        return self.water_on_3 == 2 and self.water_on_4 == 0\n",
    "    \n",
    "    def get_value(self): # retorna o valor do estado atual (água no jarro de 3L, água no jarro de 4L)\n",
    "        return self.water_on_3, self.water_on_4"
   ]
  },
  {
   "cell_type": "markdown",
   "metadata": {},
   "source": [
    "#### Classe Base\n",
    "Possui as funções básicas de inicialização, busca por índice e exibição dos conteúdos da Fila e Pilha"
   ]
  },
  {
   "cell_type": "code",
   "execution_count": 3,
   "metadata": {},
   "outputs": [],
   "source": [
    "class Base():\n",
    "    def __init__(self, first_element = None):\n",
    "        # inicializa o vetor como um vetor vazio ou com o primeiro elemento, se houver\n",
    "        self.array = [first_element] if first_element is not None else [] \n",
    "        self.length = 0 # inicializa o atributo de comprimento\n",
    "    def __getitem__(self, index): # retorna o conteúdo do array na posição especificada (sobrecarga do operador [i])\n",
    "        if index < len(self.array):\n",
    "            return self.array[index]\n",
    "    def show(self): # Exibe o conteúdo do array\n",
    "        print(self.array)"
   ]
  },
  {
   "cell_type": "markdown",
   "metadata": {},
   "source": [
    "#### Classe Pilha\n",
    "Funções:\n",
    "- push: adiciona um item no topo da pilha\n",
    "- pop: remove e retorna o item no topo da pilha"
   ]
  },
  {
   "cell_type": "code",
   "execution_count": 4,
   "metadata": {},
   "outputs": [],
   "source": [
    "class Stack(Base):\n",
    "    def push(self, value):\n",
    "        self.array.append(value)\n",
    "        self.length += 1\n",
    "        return self.array[:]\n",
    "    def pop(self):\n",
    "        if(len(self.array) > 0):\n",
    "            self.length -= 1\n",
    "            return self.array.pop()"
   ]
  },
  {
   "cell_type": "markdown",
   "metadata": {},
   "source": [
    "#### Classe Fila\n",
    "Funções:\n",
    "- enqueue: adiciona um item no fim da fila\n",
    "- dequeue: remove e retorna o item na primeira posição da fila"
   ]
  },
  {
   "cell_type": "code",
   "execution_count": 5,
   "metadata": {},
   "outputs": [],
   "source": [
    "class Queue(Base):\n",
    "    def enqueue(self, value):\n",
    "        self.array.append(value);\n",
    "        self.length += 1\n",
    "        return self.array[:]\n",
    "    def dequeue(self):\n",
    "        if(len(self.array) > 0):\n",
    "            self.length -= 1\n",
    "            return self.array.pop(0)"
   ]
  },
  {
   "cell_type": "markdown",
   "metadata": {},
   "source": [
    "## Operações\n",
    "\n",
    "- fill_3: enche o jarro de 3L\n",
    "- empty_3: esvazia o jarro de 3L\n",
    "- fill_4: enche o jarro de 4L\n",
    "- empty_4: esvazia o jarro de 4L\n",
    "- transfer_3_4: transfere o conteúdo do jarro de 3L para o jarro de 4L\n",
    "- transfer_4_3: transfere o conteúdo do jarro de 4L para o jarro de 3L"
   ]
  },
  {
   "cell_type": "code",
   "execution_count": 6,
   "metadata": {},
   "outputs": [],
   "source": [
    "def fill_3(water_on_3, water_on_4):\n",
    "    return 3, water_on_4\n",
    "\n",
    "def empty_3(water_on_3, water_on_4):\n",
    "    return 0, water_on_4\n",
    "\n",
    "def fill_4(water_on_3, water_on_4):\n",
    "    return water_on_3, 4\n",
    "\n",
    "def empty_4(water_on_3, water_on_4):\n",
    "    return water_on_3, 0\n",
    "\n",
    "def transfer_3_4(water_on_3, water_on_4):\n",
    "    total_water = water_on_3 + water_on_4 \n",
    "    return (total_water - 4, 4) if (total_water > 3) else (0, total_water)\n",
    "\n",
    "def transfer_4_3(water_on_3, water_on_4):\n",
    "    total_water = water_on_3 + water_on_4 \n",
    "    return (3, total_water - 3) if (total_water > 3) else (total_water, 0)"
   ]
  },
  {
   "cell_type": "markdown",
   "metadata": {},
   "source": [
    "#### Função para exibir o resultado da busca"
   ]
  },
  {
   "cell_type": "code",
   "execution_count": 7,
   "metadata": {},
   "outputs": [],
   "source": [
    "def print_result(state):\n",
    "    way = [] # inicializa o vetor do caminho a ser realizado na árvore de estados\n",
    "    print('Resultado:')\n",
    "    while(state.parent is not None): # Itera do nó final (folha) até o nó raiz através da referência para o pai\n",
    "        way.insert(0, state.get_value()) # Insere no vetor do caminho o estado atual\n",
    "        state = state.parent # Atualiza o estado atual com o nó pai\n",
    "    way.insert(0, state.get_value()) # Insere o valor do nó raiz\n",
    "    print(way) "
   ]
  },
  {
   "cell_type": "markdown",
   "metadata": {},
   "source": [
    "### Algoritmo de Busca em Largura (BFS)\n",
    "Utiliza internamente uma estrutura de fila para visitar os nós da árvore de estados"
   ]
  },
  {
   "cell_type": "code",
   "execution_count": 8,
   "metadata": {},
   "outputs": [],
   "source": [
    "def bfs(q, visited_states):\n",
    "    if q is None and visited_states is None: # Caso seja a primeira execução do algoritmo inicializa os parâmetros\n",
    "        visited_states = [] # Inicializa os estados visitados\n",
    "        q = Queue(State(0,0)) # Inicializa a fila com o estado inicial\n",
    "    state = q.dequeue() # Remove e recebe o estado do início da fila\n",
    "    if(state.get_value() in visited_states): # Se o estado já foi visitado chama novamente a recursão sem gerar os filhos\n",
    "        return bfs(q, visited_states)\n",
    "    elif(state.is_final_state()): # Se o estado é o estado final exibe o resultado e para a recursão (caso base)\n",
    "        print_result(state)\n",
    "        return\n",
    "    else:\n",
    "        # Não é estado final, então gera os estados filhos\n",
    "        visited_states.append(state.get_value()) # Atualiza o vetor de estados visitados com o estado atual\n",
    "        # Vetor de funções com as operações para gerar os nós filhos\n",
    "        operations = [fill_3, empty_3, fill_4, empty_4, transfer_3_4, transfer_4_3] \n",
    "        print(state.get_value()) # Exibe o estado atual\n",
    "        for operation in operations: # Itera sobre todas as operações\n",
    "            new_state = State(*operation(*state.get_value())) # Gera o filho com base no valor do pai\n",
    "            new_state.parent = state # Guarda a referência para o nó pai\n",
    "            q.enqueue(new_state) # Adiciona o filho gerado ao fim da fila\n",
    "        return bfs(q, visited_states) # Executa o passo recursivo"
   ]
  },
  {
   "cell_type": "markdown",
   "metadata": {},
   "source": [
    "### Algoritmo de Busca em Profundidade (DFS)\n",
    "Utiliza internamente uma pilha para visitar os nós da árvore de estados"
   ]
  },
  {
   "cell_type": "code",
   "execution_count": 9,
   "metadata": {},
   "outputs": [],
   "source": [
    "def dfs(stack, visited_states):\n",
    "    if stack is None and visited_states is None:  # Caso seja a primeira execução do algoritmo inicializa os parâmetros\n",
    "        visited_states = [] # Inicializa os estados visitados\n",
    "        stack = Stack(State(0,0)) # Inicializa a pilha com o estado inicial\n",
    "    state = stack.pop() # Remove e retorna o estado do topo da pilha\n",
    "    if(state.get_value() in visited_states): # Se o estado já foi visitado chama novamente a recursão sem gerar os filhos\n",
    "        return dfs(stack, visited_states) \n",
    "    elif(state.is_final_state()): # Se o estado é o estado final exibe o resultado e para a recursão (caso base)\n",
    "        print_result(state)\n",
    "        return\n",
    "    else: # Não é estado final, então gera os estados filhos\n",
    "        visited_states.append(state.get_value()) # Atualiza o vetor de estados visitados com o estado atual\n",
    "        # Vetor de funções com as operações para gerar os nós filhos\n",
    "        operations = [fill_3, empty_3, fill_4, empty_4, transfer_3_4, transfer_4_3]\n",
    "        operations.reverse() # Inverte a ordem das operações (para visitar os estados da árvore pelo ramo da esquerda)\n",
    "        print(state.get_value()) # Exibe o estado atual\n",
    "\n",
    "        for operation in operations: # Itera sobre todas as operações\n",
    "            new_state = State(*operation(*state.get_value())) # Gera o filho com base no valor do pai\n",
    "            new_state.parent = state # Guarda a referência para o nó pai\n",
    "            stack.push(new_state) # Adiciona o filho no topo da pilha\n",
    "        return dfs(stack, visited_states) # Executa o passo recursivo"
   ]
  },
  {
   "cell_type": "code",
   "execution_count": 10,
   "metadata": {},
   "outputs": [],
   "source": [
    "def main(): # Função principal, executa as duas buscas e exibe o resultado obtido\n",
    "    print('Busca em Largura')\n",
    "    print('Caminho da Busca:')\n",
    "    bfs(None, None) # Chamada inicial do BFS enviando os argumentos como None\n",
    "    \n",
    "    print('\\nBusca em Profundidade')\n",
    "    print('Caminho da Busca')\n",
    "    dfs(None, None) # Chamada inicial do DFS enviando os argumentos como None"
   ]
  },
  {
   "cell_type": "code",
   "execution_count": 11,
   "metadata": {},
   "outputs": [
    {
     "name": "stdout",
     "output_type": "stream",
     "text": [
      "Busca em Largura\n",
      "Caminho da Busca:\n",
      "(0, 0)\n",
      "(3, 0)\n",
      "(0, 4)\n",
      "(3, 4)\n",
      "(0, 3)\n",
      "(3, 1)\n",
      "(3, 3)\n",
      "(0, 1)\n",
      "(2, 4)\n",
      "(1, 0)\n",
      "Resultado:\n",
      "[(0, 0), (3, 0), (0, 3), (3, 3), (2, 4), (2, 0)]\n",
      "\n",
      "Busca em Profundidade\n",
      "Caminho da Busca\n",
      "(0, 0)\n",
      "(3, 0)\n",
      "(3, 4)\n",
      "(0, 4)\n",
      "(3, 1)\n",
      "(0, 1)\n",
      "(1, 0)\n",
      "(1, 4)\n",
      "(3, 2)\n",
      "(0, 2)\n",
      "Resultado:\n",
      "[(0, 0), (3, 0), (3, 4), (0, 4), (3, 1), (0, 1), (1, 0), (1, 4), (3, 2), (0, 2), (2, 0)]\n"
     ]
    }
   ],
   "source": [
    "main()"
   ]
  }
 ],
 "metadata": {
  "kernelspec": {
   "display_name": "Python 3",
   "language": "python",
   "name": "python3"
  },
  "language_info": {
   "codemirror_mode": {
    "name": "ipython",
    "version": 3
   },
   "file_extension": ".py",
   "mimetype": "text/x-python",
   "name": "python",
   "nbconvert_exporter": "python",
   "pygments_lexer": "ipython3",
   "version": "3.7.4"
  }
 },
 "nbformat": 4,
 "nbformat_minor": 2
}
